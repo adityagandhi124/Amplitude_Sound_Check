{
 "cells": [
  {
   "cell_type": "markdown",
   "id": "9f1128a3-7e75-42c0-99c4-0145991b7a30",
   "metadata": {},
   "source": [
    "# Ramp up for Air Embolism Detection Team"
   ]
  },
  {
   "cell_type": "markdown",
   "id": "3e87fb8e-7673-4274-be5b-dd9120d486e1",
   "metadata": {},
   "source": [
    "#### Introduction: Throughout the course of this project we will be using python libraries to write an algorithm that detects the occurance of an air embolism in a patients heart. The ramp up project is designed to get you familiar with using python and python libraries to develop sound frequency analysis algorithms. \n",
    "\n",
    "#### Here you will follow the steps below to record an audio file, save it, and find the highest note in the recording. You can just record yourself talking or even play a song, instrament, whatever you choose!"
   ]
  },
  {
   "cell_type": "markdown",
   "id": "5797d919",
   "metadata": {},
   "source": []
  },
  {
   "cell_type": "markdown",
   "id": "fed0c8c7-8842-447e-bf24-18cd209ecce8",
   "metadata": {},
   "source": [
    "# Instructions: \n",
    "    "
   ]
  },
  {
   "cell_type": "markdown",
   "id": "1eaf2760-d2f5-4c59-a432-b80bb39e055e",
   "metadata": {
    "tags": []
   },
   "source": [
    "### Step 1. install the following libraries if you do not have it installed already\n",
    " #### 1a. Read libraries documentation to understand purpose of each one before you start coding if you do not know what each library does"
   ]
  },
  {
   "cell_type": "code",
   "execution_count": 5,
   "id": "51827288-0309-4145-b0c4-d6c41a8c983d",
   "metadata": {
    "tags": []
   },
   "outputs": [],
   "source": [
    "!pip install numpy\n",
    "!pip install librosa \n",
    "!pip install pyaudio \n",
    "!pip install matplotlib\n"
   ]
  },
  {
   "cell_type": "markdown",
   "id": "78ff601c-27f2-4985-8b32-77db9dfa5a69",
   "metadata": {},
   "source": [
    "Numpy: Used for numerical computations in Python. It provides support for large, multi-dimensional arrays and matrices, along with a variety of high-level mathematical functions to operate on these arrays. Numpy offers a simpler, more intuitive syntax for complex mathematical operations and array manipulations, which improves code readability. \n",
    "https://numpy.org/doc/stable/user/absolute_beginners.html\n",
    "\n",
    "Librosa: A python package for music and audio analysis. It provides the building blocks necessary to create music information retrieval systems.\n",
    "https://librosa.org/doc/latest/tutorial.html https://librosa.org/doc/latest/index.html\n",
    "\n",
    "Pyaudio: PyAudio is a library for Python that provides bindings for PortAudio, the cross-platform audio I/O library. With PyAudio, you can easily use Python to play and record audio on a variety of platforms, making it a useful library for audio processing tasks.\n",
    "https://people.csail.mit.edu/hubert/pyaudio/docs/#pyaudio-documentation\n",
    "https://people.csail.mit.edu/hubert/pyaudio/docs/#class-pyaudio\n",
    "\n",
    "matplotlib: Used to create plots\n",
    "https://matplotlib.org/"
   ]
  },
  {
   "cell_type": "code",
   "execution_count": 2,
   "id": "962fc539-2ae8-4ee1-9ecf-5a53e590126a",
   "metadata": {
    "tags": []
   },
   "outputs": [],
   "source": [
    "# These are the imports I used, you can use whatever import you like to achieve the task\n",
    "import numpy as np\n",
    "import librosa \n",
    "import librosa.display\n",
    "import matplotlib.pyplot as plt\n",
    "from matplotlib.animation import FuncAnimation\n",
    "import os\n",
    "import pyaudio \n",
    "import wave\n",
    "\n",
    "BASE_DIR = \"./\"  # Saves in current working directory (easiest way to do it)"
   ]
  },
  {
   "cell_type": "markdown",
   "id": "88e6c7ab-2fdf-46f1-8ad4-b37a12815921",
   "metadata": {},
   "source": [
    "### Step 2: Coding\n",
    "Instruction: Use pyaudio to record audio and save it to a wave file\n"
   ]
  },
  {
   "cell_type": "markdown",
   "id": "5374178e-d7f1-4b6a-8ecc-b6ad189ca6d8",
   "metadata": {},
   "source": [
    "Necessary libraries: Pyaudio, matplotlib (from numpy), librosa recommended\n",
    "Optional: Can do external resarch for alternative libraries, if you find any you prefer make sure to include why so we can discuss if we should use it on the actual project"
   ]
  },
  {
   "cell_type": "code",
   "execution_count": 42,
   "id": "a8ec11b4-fe84-4c13-bbe7-96a05f55b9b9",
   "metadata": {
    "tags": []
   },
   "outputs": [],
   "source": [
    " # create function to take in audio input"
   ]
  },
  {
   "cell_type": "code",
   "execution_count": null,
   "id": "422c4348-68fa-4545-8fca-c057910a27d7",
   "metadata": {},
   "outputs": [],
   "source": [
    "# call function"
   ]
  },
  {
   "cell_type": "markdown",
   "id": "1796e318-745a-4c9e-b685-546e75b2b26b",
   "metadata": {},
   "source": [
    "## Step 3: Display plot (can also merge into step 2)\n",
    "Use matplotlib to display the audio sound waves while the audio stream is open"
   ]
  },
  {
   "cell_type": "code",
   "execution_count": null,
   "id": "4df7a998-3cc8-4d7b-8ef1-f544323e4028",
   "metadata": {},
   "outputs": [],
   "source": [
    "# function here for step 3 (or get rid of it if merged into step 2) to display the graph with real time sound waves"
   ]
  },
  {
   "cell_type": "markdown",
   "id": "23d97445-0ed6-4a40-aa9e-43cb15594902",
   "metadata": {},
   "source": [
    "## Step 4: Analysis\n",
    "Find the highest note recorded "
   ]
  },
  {
   "cell_type": "code",
   "execution_count": null,
   "id": "e08ef286-431c-418d-9e1a-4444d099e874",
   "metadata": {},
   "outputs": [],
   "source": [
    "#code here for step 4 to perform analysis on saved audio file (.wav)"
   ]
  },
  {
   "cell_type": "markdown",
   "id": "4dc8a3ea-be11-451f-9327-01b938eeef70",
   "metadata": {
    "tags": []
   },
   "source": [
    "## Step 5: Read following articles about FFT if you have time and want to learn more\n",
    "https://www.nti-audio.com/en/support/know-how/fast-fourier-transform-fft#:~:text=The%20%22Fast%20Fourier%20Transform%22%20(,frequency%20information%20about%20the%20signal.\n",
    "\n",
    "https://towardsdatascience.com/understanding-audio-data-fourier-transform-fft-spectrogram-and-speech-recognition-a4072d228520"
   ]
  }
 ],
 "metadata": {
  "kernelspec": {
   "display_name": "Python 3.11.4 64-bit",
   "language": "python",
   "name": "python3"
  },
  "language_info": {
   "codemirror_mode": {
    "name": "ipython",
    "version": 3
   },
   "file_extension": ".py",
   "mimetype": "text/x-python",
   "name": "python",
   "nbconvert_exporter": "python",
   "pygments_lexer": "ipython3",
   "version": "3.11.4"
  },
  "vscode": {
   "interpreter": {
    "hash": "aee8b7b246df8f9039afb4144a1f6fd8d2ca17a180786b69acc140d282b71a49"
   }
  }
 },
 "nbformat": 4,
 "nbformat_minor": 5
}
